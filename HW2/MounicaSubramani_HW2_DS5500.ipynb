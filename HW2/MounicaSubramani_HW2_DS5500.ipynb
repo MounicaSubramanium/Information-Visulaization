{
 "cells": [
  {
   "cell_type": "markdown",
   "metadata": {},
   "source": [
    "### Problem 1 \n",
    "\n",
    "- Akhil Nair\n",
    "- Mounica Subramani\n",
    "- Mrinal Soni \n",
    "- SuRui Yang"
   ]
  },
  {
   "cell_type": "markdown",
   "metadata": {},
   "source": [
    "### Problem 2\n",
    "\n",
    "The visualization I chose to compare and review for Problem 2 of HW1 is by Bishishta.\n",
    "\n",
    "https://github.com/bishishta/Information-Visualization/tree/master/DS5500_HW1\n",
    "\n",
    "The visualization is about the distribution of GPA per Capita across countries over time. Her plot was a clear static line plot. There were 20 sub plots for 193 countries where 10 countries were represented in each plot. We have \"Year\" in X-axis and GDP per Capita in the y axis.\n",
    "\n",
    "There was also another plot representing GDP/Capita across continents over time which is again a simple static 2D lne plot.\n",
    "\n",
    "The plot that I have mode for problem 2 was similar to the one that represents GDP/capita across continents over time from Bishishta's plots. However the clear representation of distribution of GDP/capita across countries was interesting and it is easy to interpret. It also does justice to the actual question. Her plot was able to explain what was asked in the problem and interpretations were clear. Interpretations based on the second plot for both of us were kind of similar"
   ]
  },
  {
   "cell_type": "markdown",
   "metadata": {},
   "source": [
    "### Problem 3\n",
    "\n",
    "The visualization I chose to compare and review for Problem 3 of HW1 is by Monica Mishra.\n",
    "\n",
    "https://colab.research.google.com/drive/1v8EY74vQxPubjXHywpDUYo7a3FMj-GuB#scrollTo=KXfw0fJqJwab\n",
    "\n",
    "The visualization is about the relationship between income (GDP / capita), life expectancy, and child mortality over time. We both have split the problem into three parts and plotted each feature relationship and used interactive dynamic plots for the problem. She also used the Google colab effectively for all her visualization plots. both of us have represented 4 continents instead of six.\n",
    "\n",
    "The visualizations are easily interpretable. Her interpretations were also clear and did answer the questions in problem 3."
   ]
  },
  {
   "cell_type": "markdown",
   "metadata": {},
   "source": [
    "### Problem 4"
   ]
  },
  {
   "cell_type": "code",
   "execution_count": 94,
   "metadata": {},
   "outputs": [],
   "source": [
    "import numpy as np \n",
    "import pandas as pd\n",
    "import plotly\n",
    "from sklearn.model_selection import train_test_split\n",
    "from sklearn.linear_model import LinearRegression\n",
    "import matplotlib.pyplot as plt\n",
    "from sklearn import metrics\n",
    "from sklearn.linear_model import LogisticRegression"
   ]
  },
  {
   "cell_type": "code",
   "execution_count": 84,
   "metadata": {},
   "outputs": [],
   "source": [
    "gdpc_income = pd.read_csv(\"C:/Users/mouni/Downloads/DS5500/HW2/ddf--datapoints--income_per_person_gdppercapita_ppp_inflation_adjusted--by--geo--time.csv\")\n",
    "life_exp = pd.read_csv(\"ddf--datapoints--life_expectancy_years--by--geo--time.csv\")"
   ]
  },
  {
   "cell_type": "code",
   "execution_count": 85,
   "metadata": {
    "scrolled": true
   },
   "outputs": [
    {
     "data": {
      "text/html": [
       "<div>\n",
       "<style scoped>\n",
       "    .dataframe tbody tr th:only-of-type {\n",
       "        vertical-align: middle;\n",
       "    }\n",
       "\n",
       "    .dataframe tbody tr th {\n",
       "        vertical-align: top;\n",
       "    }\n",
       "\n",
       "    .dataframe thead th {\n",
       "        text-align: right;\n",
       "    }\n",
       "</style>\n",
       "<table border=\"1\" class=\"dataframe\">\n",
       "  <thead>\n",
       "    <tr style=\"text-align: right;\">\n",
       "      <th></th>\n",
       "      <th>geo</th>\n",
       "      <th>time</th>\n",
       "      <th>income_per_person_gdppercapita_ppp_inflation_adjusted</th>\n",
       "    </tr>\n",
       "  </thead>\n",
       "  <tbody>\n",
       "    <tr>\n",
       "      <th>0</th>\n",
       "      <td>afg</td>\n",
       "      <td>1800</td>\n",
       "      <td>603</td>\n",
       "    </tr>\n",
       "    <tr>\n",
       "      <th>1</th>\n",
       "      <td>afg</td>\n",
       "      <td>1801</td>\n",
       "      <td>603</td>\n",
       "    </tr>\n",
       "    <tr>\n",
       "      <th>2</th>\n",
       "      <td>afg</td>\n",
       "      <td>1802</td>\n",
       "      <td>603</td>\n",
       "    </tr>\n",
       "    <tr>\n",
       "      <th>3</th>\n",
       "      <td>afg</td>\n",
       "      <td>1803</td>\n",
       "      <td>603</td>\n",
       "    </tr>\n",
       "    <tr>\n",
       "      <th>4</th>\n",
       "      <td>afg</td>\n",
       "      <td>1804</td>\n",
       "      <td>603</td>\n",
       "    </tr>\n",
       "  </tbody>\n",
       "</table>\n",
       "</div>"
      ],
      "text/plain": [
       "   geo  time  income_per_person_gdppercapita_ppp_inflation_adjusted\n",
       "0  afg  1800                                                603    \n",
       "1  afg  1801                                                603    \n",
       "2  afg  1802                                                603    \n",
       "3  afg  1803                                                603    \n",
       "4  afg  1804                                                603    "
      ]
     },
     "execution_count": 85,
     "metadata": {},
     "output_type": "execute_result"
    }
   ],
   "source": [
    "gdpc_income.head()"
   ]
  },
  {
   "cell_type": "code",
   "execution_count": 86,
   "metadata": {},
   "outputs": [
    {
     "data": {
      "text/html": [
       "<div>\n",
       "<style scoped>\n",
       "    .dataframe tbody tr th:only-of-type {\n",
       "        vertical-align: middle;\n",
       "    }\n",
       "\n",
       "    .dataframe tbody tr th {\n",
       "        vertical-align: top;\n",
       "    }\n",
       "\n",
       "    .dataframe thead th {\n",
       "        text-align: right;\n",
       "    }\n",
       "</style>\n",
       "<table border=\"1\" class=\"dataframe\">\n",
       "  <thead>\n",
       "    <tr style=\"text-align: right;\">\n",
       "      <th></th>\n",
       "      <th>geo</th>\n",
       "      <th>time</th>\n",
       "      <th>income_per_person</th>\n",
       "    </tr>\n",
       "  </thead>\n",
       "  <tbody>\n",
       "    <tr>\n",
       "      <th>0</th>\n",
       "      <td>afg</td>\n",
       "      <td>1800</td>\n",
       "      <td>603</td>\n",
       "    </tr>\n",
       "    <tr>\n",
       "      <th>1</th>\n",
       "      <td>afg</td>\n",
       "      <td>1801</td>\n",
       "      <td>603</td>\n",
       "    </tr>\n",
       "    <tr>\n",
       "      <th>2</th>\n",
       "      <td>afg</td>\n",
       "      <td>1802</td>\n",
       "      <td>603</td>\n",
       "    </tr>\n",
       "    <tr>\n",
       "      <th>3</th>\n",
       "      <td>afg</td>\n",
       "      <td>1803</td>\n",
       "      <td>603</td>\n",
       "    </tr>\n",
       "    <tr>\n",
       "      <th>4</th>\n",
       "      <td>afg</td>\n",
       "      <td>1804</td>\n",
       "      <td>603</td>\n",
       "    </tr>\n",
       "  </tbody>\n",
       "</table>\n",
       "</div>"
      ],
      "text/plain": [
       "   geo  time  income_per_person\n",
       "0  afg  1800                603\n",
       "1  afg  1801                603\n",
       "2  afg  1802                603\n",
       "3  afg  1803                603\n",
       "4  afg  1804                603"
      ]
     },
     "execution_count": 86,
     "metadata": {},
     "output_type": "execute_result"
    }
   ],
   "source": [
    "gdpc_income = gdpc_income.rename(columns={\"income_per_person_gdppercapita_ppp_inflation_adjusted\": \"income_per_person\"})\n",
    "gdpc_income.head()"
   ]
  },
  {
   "cell_type": "code",
   "execution_count": 17,
   "metadata": {},
   "outputs": [
    {
     "data": {
      "text/html": [
       "<div>\n",
       "<style scoped>\n",
       "    .dataframe tbody tr th:only-of-type {\n",
       "        vertical-align: middle;\n",
       "    }\n",
       "\n",
       "    .dataframe tbody tr th {\n",
       "        vertical-align: top;\n",
       "    }\n",
       "\n",
       "    .dataframe thead th {\n",
       "        text-align: right;\n",
       "    }\n",
       "</style>\n",
       "<table border=\"1\" class=\"dataframe\">\n",
       "  <thead>\n",
       "    <tr style=\"text-align: right;\">\n",
       "      <th></th>\n",
       "      <th>geo</th>\n",
       "      <th>time</th>\n",
       "      <th>life_expectancy_years</th>\n",
       "    </tr>\n",
       "  </thead>\n",
       "  <tbody>\n",
       "    <tr>\n",
       "      <th>0</th>\n",
       "      <td>abw</td>\n",
       "      <td>1800</td>\n",
       "      <td>34.42</td>\n",
       "    </tr>\n",
       "    <tr>\n",
       "      <th>1</th>\n",
       "      <td>abw</td>\n",
       "      <td>1801</td>\n",
       "      <td>34.42</td>\n",
       "    </tr>\n",
       "    <tr>\n",
       "      <th>2</th>\n",
       "      <td>abw</td>\n",
       "      <td>1802</td>\n",
       "      <td>34.42</td>\n",
       "    </tr>\n",
       "    <tr>\n",
       "      <th>3</th>\n",
       "      <td>abw</td>\n",
       "      <td>1803</td>\n",
       "      <td>34.42</td>\n",
       "    </tr>\n",
       "    <tr>\n",
       "      <th>4</th>\n",
       "      <td>abw</td>\n",
       "      <td>1804</td>\n",
       "      <td>34.42</td>\n",
       "    </tr>\n",
       "  </tbody>\n",
       "</table>\n",
       "</div>"
      ],
      "text/plain": [
       "   geo  time  life_expectancy_years\n",
       "0  abw  1800                  34.42\n",
       "1  abw  1801                  34.42\n",
       "2  abw  1802                  34.42\n",
       "3  abw  1803                  34.42\n",
       "4  abw  1804                  34.42"
      ]
     },
     "execution_count": 17,
     "metadata": {},
     "output_type": "execute_result"
    }
   ],
   "source": [
    "life_exp.head()"
   ]
  },
  {
   "cell_type": "code",
   "execution_count": 18,
   "metadata": {},
   "outputs": [
    {
     "data": {
      "text/html": [
       "<div>\n",
       "<style scoped>\n",
       "    .dataframe tbody tr th:only-of-type {\n",
       "        vertical-align: middle;\n",
       "    }\n",
       "\n",
       "    .dataframe tbody tr th {\n",
       "        vertical-align: top;\n",
       "    }\n",
       "\n",
       "    .dataframe thead th {\n",
       "        text-align: right;\n",
       "    }\n",
       "</style>\n",
       "<table border=\"1\" class=\"dataframe\">\n",
       "  <thead>\n",
       "    <tr style=\"text-align: right;\">\n",
       "      <th></th>\n",
       "      <th>geo</th>\n",
       "      <th>time</th>\n",
       "      <th>income_per_person</th>\n",
       "      <th>life_expectancy_years</th>\n",
       "    </tr>\n",
       "  </thead>\n",
       "  <tbody>\n",
       "    <tr>\n",
       "      <th>0</th>\n",
       "      <td>afg</td>\n",
       "      <td>1800</td>\n",
       "      <td>603</td>\n",
       "      <td>28.21</td>\n",
       "    </tr>\n",
       "    <tr>\n",
       "      <th>1</th>\n",
       "      <td>afg</td>\n",
       "      <td>1801</td>\n",
       "      <td>603</td>\n",
       "      <td>28.20</td>\n",
       "    </tr>\n",
       "    <tr>\n",
       "      <th>2</th>\n",
       "      <td>afg</td>\n",
       "      <td>1802</td>\n",
       "      <td>603</td>\n",
       "      <td>28.19</td>\n",
       "    </tr>\n",
       "    <tr>\n",
       "      <th>3</th>\n",
       "      <td>afg</td>\n",
       "      <td>1803</td>\n",
       "      <td>603</td>\n",
       "      <td>28.18</td>\n",
       "    </tr>\n",
       "    <tr>\n",
       "      <th>4</th>\n",
       "      <td>afg</td>\n",
       "      <td>1804</td>\n",
       "      <td>603</td>\n",
       "      <td>28.17</td>\n",
       "    </tr>\n",
       "  </tbody>\n",
       "</table>\n",
       "</div>"
      ],
      "text/plain": [
       "   geo  time  income_per_person  life_expectancy_years\n",
       "0  afg  1800                603                  28.21\n",
       "1  afg  1801                603                  28.20\n",
       "2  afg  1802                603                  28.19\n",
       "3  afg  1803                603                  28.18\n",
       "4  afg  1804                603                  28.17"
      ]
     },
     "execution_count": 18,
     "metadata": {},
     "output_type": "execute_result"
    }
   ],
   "source": [
    "merge_df = pd.merge(gdpc_income,life_exp, on = ['geo', 'time'])\n",
    "merge_df.head()"
   ]
  },
  {
   "cell_type": "code",
   "execution_count": 19,
   "metadata": {},
   "outputs": [],
   "source": [
    "merge_df['log_gdp_income'] = np.log(merge_df.income_per_person)"
   ]
  },
  {
   "cell_type": "code",
   "execution_count": 20,
   "metadata": {},
   "outputs": [
    {
     "data": {
      "text/html": [
       "<div>\n",
       "<style scoped>\n",
       "    .dataframe tbody tr th:only-of-type {\n",
       "        vertical-align: middle;\n",
       "    }\n",
       "\n",
       "    .dataframe tbody tr th {\n",
       "        vertical-align: top;\n",
       "    }\n",
       "\n",
       "    .dataframe thead th {\n",
       "        text-align: right;\n",
       "    }\n",
       "</style>\n",
       "<table border=\"1\" class=\"dataframe\">\n",
       "  <thead>\n",
       "    <tr style=\"text-align: right;\">\n",
       "      <th></th>\n",
       "      <th>geo</th>\n",
       "      <th>time</th>\n",
       "      <th>income_per_person</th>\n",
       "      <th>life_expectancy_years</th>\n",
       "      <th>log_gdp_income</th>\n",
       "    </tr>\n",
       "  </thead>\n",
       "  <tbody>\n",
       "    <tr>\n",
       "      <th>0</th>\n",
       "      <td>afg</td>\n",
       "      <td>1800</td>\n",
       "      <td>603</td>\n",
       "      <td>28.21</td>\n",
       "      <td>6.401917</td>\n",
       "    </tr>\n",
       "    <tr>\n",
       "      <th>1</th>\n",
       "      <td>afg</td>\n",
       "      <td>1801</td>\n",
       "      <td>603</td>\n",
       "      <td>28.20</td>\n",
       "      <td>6.401917</td>\n",
       "    </tr>\n",
       "    <tr>\n",
       "      <th>2</th>\n",
       "      <td>afg</td>\n",
       "      <td>1802</td>\n",
       "      <td>603</td>\n",
       "      <td>28.19</td>\n",
       "      <td>6.401917</td>\n",
       "    </tr>\n",
       "    <tr>\n",
       "      <th>3</th>\n",
       "      <td>afg</td>\n",
       "      <td>1803</td>\n",
       "      <td>603</td>\n",
       "      <td>28.18</td>\n",
       "      <td>6.401917</td>\n",
       "    </tr>\n",
       "    <tr>\n",
       "      <th>4</th>\n",
       "      <td>afg</td>\n",
       "      <td>1804</td>\n",
       "      <td>603</td>\n",
       "      <td>28.17</td>\n",
       "      <td>6.401917</td>\n",
       "    </tr>\n",
       "  </tbody>\n",
       "</table>\n",
       "</div>"
      ],
      "text/plain": [
       "   geo  time  income_per_person  life_expectancy_years  log_gdp_income\n",
       "0  afg  1800                603                  28.21        6.401917\n",
       "1  afg  1801                603                  28.20        6.401917\n",
       "2  afg  1802                603                  28.19        6.401917\n",
       "3  afg  1803                603                  28.18        6.401917\n",
       "4  afg  1804                603                  28.17        6.401917"
      ]
     },
     "execution_count": 20,
     "metadata": {},
     "output_type": "execute_result"
    }
   ],
   "source": [
    "merge_df.head()"
   ]
  },
  {
   "cell_type": "markdown",
   "metadata": {},
   "source": [
    "### Linear Regression Model\n",
    "\n",
    "Find correlation between the feature variables for better modelling."
   ]
  },
  {
   "cell_type": "code",
   "execution_count": 56,
   "metadata": {},
   "outputs": [
    {
     "data": {
      "text/plain": [
       "Text(0, 0.5, 'log(gdp income)')"
      ]
     },
     "execution_count": 56,
     "metadata": {},
     "output_type": "execute_result"
    },
    {
     "data": {
      "image/png": "[encoded data removed]",
      "text/plain": [
       "<Figure size 432x288 with 1 Axes>"
      ]
     },
     "metadata": {
      "needs_background": "light"
     },
     "output_type": "display_data"
    }
   ],
   "source": [
    "plt.scatter(merge_df[\"life_expectancy_years\"],merge_df[\"log_gdp_income\"])\n",
    "plt.title(\"Relationship between in log(GDP income) and life expectancy\")\n",
    "plt.xlabel(\"Life Expectancy\")\n",
    "plt.ylabel(\"log(gdp income)\")"
   ]
  },
  {
   "cell_type": "markdown",
   "metadata": {},
   "source": [
    "There is a positive correlation between increase in gdp per capita income and life expectancy over years. The relationship is quite linear from pot that made out of mean values. So, trying a linear regression model on this data will be a good idea."
   ]
  },
  {
   "cell_type": "code",
   "execution_count": 29,
   "metadata": {},
   "outputs": [
    {
     "name": "stdout",
     "output_type": "stream",
     "text": [
      "LinearRegression(copy_X=True, fit_intercept=True, n_jobs=None, normalize=False)\n",
      "[[0.05623936]]\n"
     ]
    }
   ],
   "source": [
    "X = merge_df[\"life_expectancy_years\"].values.reshape(-1,1)\n",
    "Y = merge_df[\"log_gdp_income\"].values.reshape(-1,1)\n",
    "xTrain, xTest, yTrain, yTest = train_test_split(X,Y, test_size=0.25, random_state=0)\n",
    "\n",
    "linear_reg = LinearRegression()  \n",
    "fit = linear_reg.fit(xTrain, yTrain)\n",
    "print(fit)\n",
    "\n",
    "coeff = linear_reg.coef_\n",
    "print(coeff)"
   ]
  },
  {
   "cell_type": "code",
   "execution_count": 37,
   "metadata": {},
   "outputs": [
    {
     "data": {
      "text/plain": [
       "array([[8.24279466],\n",
       "       [6.9335424 ],\n",
       "       [7.02914931],\n",
       "       ...,\n",
       "       [7.84630719],\n",
       "       [8.43063412],\n",
       "       [9.00146361]])"
      ]
     },
     "execution_count": 37,
     "metadata": {},
     "output_type": "execute_result"
    }
   ],
   "source": [
    "y_pred = linear_reg.predict(xTest)\n",
    "y_pred"
   ]
  },
  {
   "cell_type": "code",
   "execution_count": 41,
   "metadata": {},
   "outputs": [
    {
     "name": "stdout",
     "output_type": "stream",
     "text": [
      "Accuracy of the model:  0.5920870405134402\n",
      "Error of the model:  0.40791295948655987\n"
     ]
    }
   ],
   "source": [
    "err = metrics.mean_squared_error(yTest,y_pred)\n",
    "acc = 1 - err\n",
    "print(\"Accuracy of the model: \", acc)\n",
    "print(\"Error of the model: \", err)"
   ]
  },
  {
   "cell_type": "code",
   "execution_count": 74,
   "metadata": {},
   "outputs": [
    {
     "data": {
      "image/png": "[encoded data removed]",
      "text/plain": [
       "<Figure size 432x288 with 1 Axes>"
      ]
     },
     "metadata": {
      "needs_background": "light"
     },
     "output_type": "display_data"
    }
   ],
   "source": [
    "plt.scatter(xTest, yTest)\n",
    "plt.plot(xTest, y_pred, color='red', linewidth=2)\n",
    "plt.title(\"True vs Pred\")\n",
    "plt.ylabel(\"log(GDP_income)\")\n",
    "plt.xlabel(\"Life Expectancy\")\n",
    "plt.show()"
   ]
  },
  {
   "cell_type": "code",
   "execution_count": 50,
   "metadata": {},
   "outputs": [
    {
     "name": "stdout",
     "output_type": "stream",
     "text": [
      "Accuracy:  0.5920870405134402\n",
      "Error:  0.40791295948655987\n"
     ]
    }
   ],
   "source": [
    "err = metrics.mean_squared_error(yTest,y_pred)\n",
    "acc = 1 - err\n",
    "print(\"Accuracy: \", acc)\n",
    "print(\"Error: \", err)"
   ]
  },
  {
   "cell_type": "markdown",
   "metadata": {},
   "source": [
    "It is observed that the accuracy of the model is not at its best and also the predicted line doesn't seem to be a best fit for the model and from the abouve graph it's not clear about model predictions too."
   ]
  },
  {
   "cell_type": "code",
   "execution_count": 55,
   "metadata": {},
   "outputs": [
    {
     "data": {
      "text/html": [
       "<div>\n",
       "<style scoped>\n",
       "    .dataframe tbody tr th:only-of-type {\n",
       "        vertical-align: middle;\n",
       "    }\n",
       "\n",
       "    .dataframe tbody tr th {\n",
       "        vertical-align: top;\n",
       "    }\n",
       "\n",
       "    .dataframe thead th {\n",
       "        text-align: right;\n",
       "    }\n",
       "</style>\n",
       "<table border=\"1\" class=\"dataframe\">\n",
       "  <thead>\n",
       "    <tr style=\"text-align: right;\">\n",
       "      <th></th>\n",
       "      <th>geo</th>\n",
       "      <th>time</th>\n",
       "      <th>income_per_person</th>\n",
       "      <th>life_expectancy_years</th>\n",
       "      <th>log_gdp_income</th>\n",
       "      <th>log_life_exp</th>\n",
       "    </tr>\n",
       "  </thead>\n",
       "  <tbody>\n",
       "    <tr>\n",
       "      <th>0</th>\n",
       "      <td>afg</td>\n",
       "      <td>1800</td>\n",
       "      <td>603</td>\n",
       "      <td>28.21</td>\n",
       "      <td>6.401917</td>\n",
       "      <td>3.339677</td>\n",
       "    </tr>\n",
       "    <tr>\n",
       "      <th>1</th>\n",
       "      <td>afg</td>\n",
       "      <td>1801</td>\n",
       "      <td>603</td>\n",
       "      <td>28.20</td>\n",
       "      <td>6.401917</td>\n",
       "      <td>3.339322</td>\n",
       "    </tr>\n",
       "    <tr>\n",
       "      <th>2</th>\n",
       "      <td>afg</td>\n",
       "      <td>1802</td>\n",
       "      <td>603</td>\n",
       "      <td>28.19</td>\n",
       "      <td>6.401917</td>\n",
       "      <td>3.338967</td>\n",
       "    </tr>\n",
       "    <tr>\n",
       "      <th>3</th>\n",
       "      <td>afg</td>\n",
       "      <td>1803</td>\n",
       "      <td>603</td>\n",
       "      <td>28.18</td>\n",
       "      <td>6.401917</td>\n",
       "      <td>3.338613</td>\n",
       "    </tr>\n",
       "    <tr>\n",
       "      <th>4</th>\n",
       "      <td>afg</td>\n",
       "      <td>1804</td>\n",
       "      <td>603</td>\n",
       "      <td>28.17</td>\n",
       "      <td>6.401917</td>\n",
       "      <td>3.338258</td>\n",
       "    </tr>\n",
       "  </tbody>\n",
       "</table>\n",
       "</div>"
      ],
      "text/plain": [
       "   geo  time  income_per_person  life_expectancy_years  log_gdp_income  \\\n",
       "0  afg  1800                603                  28.21        6.401917   \n",
       "1  afg  1801                603                  28.20        6.401917   \n",
       "2  afg  1802                603                  28.19        6.401917   \n",
       "3  afg  1803                603                  28.18        6.401917   \n",
       "4  afg  1804                603                  28.17        6.401917   \n",
       "\n",
       "   log_life_exp  \n",
       "0      3.339677  \n",
       "1      3.339322  \n",
       "2      3.338967  \n",
       "3      3.338613  \n",
       "4      3.338258  "
      ]
     },
     "execution_count": 55,
     "metadata": {},
     "output_type": "execute_result"
    }
   ],
   "source": [
    "merge_df['log_life_exp'] = np.log(merge_df.life_expectancy_years)\n",
    "merge_df.head()"
   ]
  },
  {
   "cell_type": "code",
   "execution_count": 57,
   "metadata": {
    "scrolled": false
   },
   "outputs": [
    {
     "data": {
      "text/plain": [
       "Text(0, 0.5, 'log(gdp income)')"
      ]
     },
     "execution_count": 57,
     "metadata": {},
     "output_type": "execute_result"
    },
    {
     "data": {
      "image/png": "[encoded data removed]",
      "text/plain": [
       "<Figure size 432x288 with 1 Axes>"
      ]
     },
     "metadata": {
      "needs_background": "light"
     },
     "output_type": "display_data"
    }
   ],
   "source": [
    "plt.scatter(merge_df[\"log_life_exp\"],merge_df[\"log_gdp_income\"])\n",
    "plt.title(\"Relationship between log(GDP income) and log(life expectancy)\")\n",
    "plt.xlabel(\"log Life Expectancy\")\n",
    "plt.ylabel(\"log(gdp income)\")"
   ]
  },
  {
   "cell_type": "code",
   "execution_count": 58,
   "metadata": {},
   "outputs": [
    {
     "name": "stdout",
     "output_type": "stream",
     "text": [
      "LinearRegression(copy_X=True, fit_intercept=True, n_jobs=None, normalize=False)\n",
      "[[2.45250957]]\n"
     ]
    }
   ],
   "source": [
    "X1 = merge_df[\"log_life_exp\"].values.reshape(-1,1)\n",
    "Y1 = merge_df[\"log_gdp_income\"].values.reshape(-1,1)\n",
    "xTrain1, xTest1, yTrain1, yTest1 = train_test_split(X1,Y1, test_size=0.25, random_state=0)\n",
    "\n",
    "linear_reg = LinearRegression()  \n",
    "fit = linear_reg.fit(xTrain1, yTrain1)\n",
    "print(fit)\n",
    "\n",
    "coeff = linear_reg.coef_\n",
    "print(coeff)"
   ]
  },
  {
   "cell_type": "code",
   "execution_count": 59,
   "metadata": {},
   "outputs": [
    {
     "data": {
      "text/plain": [
       "array([[8.3354401 ],\n",
       "       [6.9783743 ],\n",
       "       [7.10728392],\n",
       "       ...,\n",
       "       [7.99757004],\n",
       "       [8.48059108],\n",
       "       [8.87534848]])"
      ]
     },
     "execution_count": 59,
     "metadata": {},
     "output_type": "execute_result"
    }
   ],
   "source": [
    "y_pred1 = linear_reg.predict(xTest1)\n",
    "y_pred1"
   ]
  },
  {
   "cell_type": "code",
   "execution_count": 72,
   "metadata": {
    "scrolled": true
   },
   "outputs": [
    {
     "data": {
      "image/png": "[encoded data removed]",
      "text/plain": [
       "<Figure size 432x288 with 1 Axes>"
      ]
     },
     "metadata": {
      "needs_background": "light"
     },
     "output_type": "display_data"
    }
   ],
   "source": [
    "plt.scatter(xTest1, yTest1)\n",
    "plt.plot(xTest1, y_pred1, color='red', linewidth=2)\n",
    "plt.title(\"True Vs Pred\")\n",
    "plt.ylabel(\"log(GDP_income)\")\n",
    "plt.xlabel(\"log Life Expectancy\")\n",
    "plt.show()"
   ]
  },
  {
   "cell_type": "code",
   "execution_count": 61,
   "metadata": {
    "scrolled": true
   },
   "outputs": [
    {
     "name": "stdout",
     "output_type": "stream",
     "text": [
      "Accuracy:  0.5176426578739037\n",
      "Error:  0.48235734212609627\n"
     ]
    }
   ],
   "source": [
    "err = metrics.mean_squared_error(yTest1,y_pred1)\n",
    "acc = 1 - err\n",
    "print(\"Accuracy: \", acc)\n",
    "print(\"Error: \", err)"
   ]
  },
  {
   "cell_type": "code",
   "execution_count": 63,
   "metadata": {
    "scrolled": true
   },
   "outputs": [
    {
     "data": {
      "text/html": [
       "<div>\n",
       "<style scoped>\n",
       "    .dataframe tbody tr th:only-of-type {\n",
       "        vertical-align: middle;\n",
       "    }\n",
       "\n",
       "    .dataframe tbody tr th {\n",
       "        vertical-align: top;\n",
       "    }\n",
       "\n",
       "    .dataframe thead th {\n",
       "        text-align: right;\n",
       "    }\n",
       "</style>\n",
       "<table border=\"1\" class=\"dataframe\">\n",
       "  <thead>\n",
       "    <tr style=\"text-align: right;\">\n",
       "      <th></th>\n",
       "      <th>income_per_person</th>\n",
       "      <th>life_expectancy_years</th>\n",
       "      <th>log_gdp_income</th>\n",
       "      <th>log_life_exp</th>\n",
       "    </tr>\n",
       "    <tr>\n",
       "      <th>time</th>\n",
       "      <th></th>\n",
       "      <th></th>\n",
       "      <th></th>\n",
       "      <th></th>\n",
       "    </tr>\n",
       "  </thead>\n",
       "  <tbody>\n",
       "    <tr>\n",
       "      <th>1800</th>\n",
       "      <td>944.940217</td>\n",
       "      <td>31.503261</td>\n",
       "      <td>6.744176</td>\n",
       "      <td>3.442714</td>\n",
       "    </tr>\n",
       "    <tr>\n",
       "      <th>1801</th>\n",
       "      <td>945.375000</td>\n",
       "      <td>31.462717</td>\n",
       "      <td>6.744875</td>\n",
       "      <td>3.441401</td>\n",
       "    </tr>\n",
       "    <tr>\n",
       "      <th>1802</th>\n",
       "      <td>948.407609</td>\n",
       "      <td>31.478641</td>\n",
       "      <td>6.746483</td>\n",
       "      <td>3.441492</td>\n",
       "    </tr>\n",
       "    <tr>\n",
       "      <th>1803</th>\n",
       "      <td>948.119565</td>\n",
       "      <td>31.384620</td>\n",
       "      <td>6.746919</td>\n",
       "      <td>3.438252</td>\n",
       "    </tr>\n",
       "    <tr>\n",
       "      <th>1804</th>\n",
       "      <td>949.793478</td>\n",
       "      <td>31.459891</td>\n",
       "      <td>6.747735</td>\n",
       "      <td>3.440877</td>\n",
       "    </tr>\n",
       "  </tbody>\n",
       "</table>\n",
       "</div>"
      ],
      "text/plain": [
       "      income_per_person  life_expectancy_years  log_gdp_income  log_life_exp\n",
       "time                                                                        \n",
       "1800         944.940217              31.503261        6.744176      3.442714\n",
       "1801         945.375000              31.462717        6.744875      3.441401\n",
       "1802         948.407609              31.478641        6.746483      3.441492\n",
       "1803         948.119565              31.384620        6.746919      3.438252\n",
       "1804         949.793478              31.459891        6.747735      3.440877"
      ]
     },
     "execution_count": 63,
     "metadata": {},
     "output_type": "execute_result"
    }
   ],
   "source": [
    "merge_df1 = merge_df.groupby(\"time\").mean()\n",
    "merge_df1.head()"
   ]
  },
  {
   "cell_type": "code",
   "execution_count": 108,
   "metadata": {},
   "outputs": [
    {
     "data": {
      "text/plain": [
       "Text(0, 0.5, 'log(gdp income)')"
      ]
     },
     "execution_count": 108,
     "metadata": {},
     "output_type": "execute_result"
    },
    {
     "data": {
      "image/png": "[encoded data removed]",
      "text/plain": [
       "<Figure size 432x288 with 1 Axes>"
      ]
     },
     "metadata": {
      "needs_background": "light"
     },
     "output_type": "display_data"
    }
   ],
   "source": [
    "plt.scatter(merge_df1[\"log_life_exp\"],merge_df1[\"log_gdp_income\"])\n",
    "plt.title(\"Relationship between mean log(GDP income) and mean life expectancy\")\n",
    "plt.xlabel(\"log Life Expectancy\")\n",
    "plt.ylabel(\"log(gdp income)\")"
   ]
  },
  {
   "cell_type": "code",
   "execution_count": 65,
   "metadata": {},
   "outputs": [
    {
     "name": "stdout",
     "output_type": "stream",
     "text": [
      "LinearRegression(copy_X=True, fit_intercept=True, n_jobs=None, normalize=False)\n",
      "[[0.05107109]]\n"
     ]
    }
   ],
   "source": [
    "X2 = merge_df1[\"life_expectancy_years\"].values.reshape(-1,1)\n",
    "Y2 = merge_df1[\"log_gdp_income\"].values.reshape(-1,1)\n",
    "xTrain2, xTest2, yTrain2, yTest2 = train_test_split(X2,Y2, test_size=0.25, random_state=0)\n",
    "\n",
    "linear_reg = LinearRegression()  \n",
    "fit = linear_reg.fit(xTrain2, yTrain2)\n",
    "print(fit)\n",
    "\n",
    "coeff = linear_reg.coef_\n",
    "print(coeff)"
   ]
  },
  {
   "cell_type": "code",
   "execution_count": 66,
   "metadata": {
    "collapsed": true
   },
   "outputs": [
    {
     "data": {
      "text/plain": [
       "array([[7.98620155],\n",
       "       [7.02185732],\n",
       "       [7.00916172],\n",
       "       [8.24341386],\n",
       "       [8.26699537],\n",
       "       [7.42574912],\n",
       "       [7.0089813 ],\n",
       "       [8.01901472],\n",
       "       [9.09748062],\n",
       "       [7.43296846],\n",
       "       [7.88727075],\n",
       "       [7.00011048],\n",
       "       [7.0574683 ],\n",
       "       [8.40735204],\n",
       "       [8.84762461],\n",
       "       [8.77197113],\n",
       "       [8.83708813],\n",
       "       [7.09490008],\n",
       "       [7.13260941],\n",
       "       [7.01597027],\n",
       "       [7.00804315],\n",
       "       [6.99510051],\n",
       "       [8.13428827],\n",
       "       [7.00525644],\n",
       "       [7.0011208 ],\n",
       "       [7.34657506],\n",
       "       [7.11362707],\n",
       "       [7.00969186],\n",
       "       [6.98974638],\n",
       "       [7.0007905 ],\n",
       "       [8.6164583 ],\n",
       "       [7.00484565],\n",
       "       [7.52517953],\n",
       "       [7.00070168],\n",
       "       [7.26683477],\n",
       "       [8.18840419],\n",
       "       [7.4586178 ],\n",
       "       [7.41582079],\n",
       "       [8.80968453],\n",
       "       [8.08284803],\n",
       "       [6.99668538],\n",
       "       [7.0002104 ],\n",
       "       [7.06895375],\n",
       "       [8.16566368],\n",
       "       [8.79034579],\n",
       "       [8.51439806],\n",
       "       [8.7070808 ],\n",
       "       [8.92603648],\n",
       "       [7.00373541],\n",
       "       [7.50922259],\n",
       "       [8.82478464],\n",
       "       [7.69174066],\n",
       "       [7.00901183],\n",
       "       [8.6798875 ],\n",
       "       [7.01477954]])"
      ]
     },
     "execution_count": 66,
     "metadata": {},
     "output_type": "execute_result"
    }
   ],
   "source": [
    "y_pred2 = linear_reg.predict(xTest2)\n",
    "y_pred2"
   ]
  },
  {
   "cell_type": "code",
   "execution_count": 70,
   "metadata": {},
   "outputs": [
    {
     "data": {
      "image/png": "[encoded data removed]",
      "text/plain": [
       "<Figure size 432x288 with 1 Axes>"
      ]
     },
     "metadata": {
      "needs_background": "light"
     },
     "output_type": "display_data"
    }
   ],
   "source": [
    "plt.scatter(xTest2, yTest2)\n",
    "plt.plot(xTest2, y_pred2, color='red', linewidth=2)\n",
    "plt.title(\"Treu Vs Pred\")\n",
    "plt.ylabel(\"mean log(GDP_income)\")\n",
    "plt.xlabel(\"mean Life Expectancy\")\n",
    "plt.show()"
   ]
  },
  {
   "cell_type": "code",
   "execution_count": 75,
   "metadata": {},
   "outputs": [
    {
     "name": "stdout",
     "output_type": "stream",
     "text": [
      "Accuracy:  0.9788814825692786\n",
      "Error:  0.02111851743072136\n"
     ]
    }
   ],
   "source": [
    "err = metrics.mean_squared_error(yTest2,y_pred2)\n",
    "acc = 1 - err\n",
    "print(\"Accuracy: \", acc)\n",
    "print(\"Error: \", err)"
   ]
  },
  {
   "cell_type": "markdown",
   "metadata": {},
   "source": [
    "The linear regression model doesn't perform well on the actual data but taking mean of the features and log of gdp income did help in getting the best fit line of the model.\n",
    "\n",
    "The hypothesis tried are:\n",
    "- Life Expectancy ~ log(gdp_income) + err\n",
    "- log(life expectancy) ~ log(gdp_income) + err\n",
    "- mean(life expectancy) ~ mean(log(gdp_income)) + err \n",
    "\n",
    "The third hypothesis worked fine for the model."
   ]
  },
  {
   "cell_type": "markdown",
   "metadata": {},
   "source": [
    "### Problem 5"
   ]
  },
  {
   "cell_type": "code",
   "execution_count": 87,
   "metadata": {},
   "outputs": [],
   "source": [
    "child_mort = pd.read_csv(\"C:/Users/mouni/Downloads/DS5500/HW2/ddf--datapoints--child_mortality_0_5_year_olds_dying_per_1000_born--by--geo--time.csv\")"
   ]
  },
  {
   "cell_type": "code",
   "execution_count": 88,
   "metadata": {},
   "outputs": [
    {
     "data": {
      "text/html": [
       "<div>\n",
       "<style scoped>\n",
       "    .dataframe tbody tr th:only-of-type {\n",
       "        vertical-align: middle;\n",
       "    }\n",
       "\n",
       "    .dataframe tbody tr th {\n",
       "        vertical-align: top;\n",
       "    }\n",
       "\n",
       "    .dataframe thead th {\n",
       "        text-align: right;\n",
       "    }\n",
       "</style>\n",
       "<table border=\"1\" class=\"dataframe\">\n",
       "  <thead>\n",
       "    <tr style=\"text-align: right;\">\n",
       "      <th></th>\n",
       "      <th>geo</th>\n",
       "      <th>time</th>\n",
       "      <th>child_mortality_0_5_year_olds_dying_per_1000_born</th>\n",
       "      <th>income_per_person</th>\n",
       "    </tr>\n",
       "  </thead>\n",
       "  <tbody>\n",
       "    <tr>\n",
       "      <th>0</th>\n",
       "      <td>afg</td>\n",
       "      <td>1800</td>\n",
       "      <td>468.58</td>\n",
       "      <td>603</td>\n",
       "    </tr>\n",
       "    <tr>\n",
       "      <th>1</th>\n",
       "      <td>afg</td>\n",
       "      <td>1801</td>\n",
       "      <td>468.58</td>\n",
       "      <td>603</td>\n",
       "    </tr>\n",
       "    <tr>\n",
       "      <th>2</th>\n",
       "      <td>afg</td>\n",
       "      <td>1802</td>\n",
       "      <td>468.58</td>\n",
       "      <td>603</td>\n",
       "    </tr>\n",
       "    <tr>\n",
       "      <th>3</th>\n",
       "      <td>afg</td>\n",
       "      <td>1803</td>\n",
       "      <td>468.58</td>\n",
       "      <td>603</td>\n",
       "    </tr>\n",
       "    <tr>\n",
       "      <th>4</th>\n",
       "      <td>afg</td>\n",
       "      <td>1804</td>\n",
       "      <td>468.58</td>\n",
       "      <td>603</td>\n",
       "    </tr>\n",
       "  </tbody>\n",
       "</table>\n",
       "</div>"
      ],
      "text/plain": [
       "   geo  time  child_mortality_0_5_year_olds_dying_per_1000_born  \\\n",
       "0  afg  1800                                             468.58   \n",
       "1  afg  1801                                             468.58   \n",
       "2  afg  1802                                             468.58   \n",
       "3  afg  1803                                             468.58   \n",
       "4  afg  1804                                             468.58   \n",
       "\n",
       "   income_per_person  \n",
       "0                603  \n",
       "1                603  \n",
       "2                603  \n",
       "3                603  \n",
       "4                603  "
      ]
     },
     "execution_count": 88,
     "metadata": {},
     "output_type": "execute_result"
    }
   ],
   "source": [
    "merged_df_q5 = pd.merge(child_mort, gdpc_income, on = ['geo', 'time']) \n",
    "\n",
    "merged_df_q5.head()"
   ]
  },
  {
   "cell_type": "code",
   "execution_count": 89,
   "metadata": {},
   "outputs": [
    {
     "data": {
      "text/html": [
       "<div>\n",
       "<style scoped>\n",
       "    .dataframe tbody tr th:only-of-type {\n",
       "        vertical-align: middle;\n",
       "    }\n",
       "\n",
       "    .dataframe tbody tr th {\n",
       "        vertical-align: top;\n",
       "    }\n",
       "\n",
       "    .dataframe thead th {\n",
       "        text-align: right;\n",
       "    }\n",
       "</style>\n",
       "<table border=\"1\" class=\"dataframe\">\n",
       "  <thead>\n",
       "    <tr style=\"text-align: right;\">\n",
       "      <th></th>\n",
       "      <th>geo</th>\n",
       "      <th>time</th>\n",
       "      <th>child_mort_rate</th>\n",
       "      <th>income_per_person</th>\n",
       "    </tr>\n",
       "  </thead>\n",
       "  <tbody>\n",
       "    <tr>\n",
       "      <th>0</th>\n",
       "      <td>afg</td>\n",
       "      <td>1800</td>\n",
       "      <td>468.58</td>\n",
       "      <td>603</td>\n",
       "    </tr>\n",
       "    <tr>\n",
       "      <th>1</th>\n",
       "      <td>afg</td>\n",
       "      <td>1801</td>\n",
       "      <td>468.58</td>\n",
       "      <td>603</td>\n",
       "    </tr>\n",
       "    <tr>\n",
       "      <th>2</th>\n",
       "      <td>afg</td>\n",
       "      <td>1802</td>\n",
       "      <td>468.58</td>\n",
       "      <td>603</td>\n",
       "    </tr>\n",
       "    <tr>\n",
       "      <th>3</th>\n",
       "      <td>afg</td>\n",
       "      <td>1803</td>\n",
       "      <td>468.58</td>\n",
       "      <td>603</td>\n",
       "    </tr>\n",
       "    <tr>\n",
       "      <th>4</th>\n",
       "      <td>afg</td>\n",
       "      <td>1804</td>\n",
       "      <td>468.58</td>\n",
       "      <td>603</td>\n",
       "    </tr>\n",
       "  </tbody>\n",
       "</table>\n",
       "</div>"
      ],
      "text/plain": [
       "   geo  time  child_mort_rate  income_per_person\n",
       "0  afg  1800           468.58                603\n",
       "1  afg  1801           468.58                603\n",
       "2  afg  1802           468.58                603\n",
       "3  afg  1803           468.58                603\n",
       "4  afg  1804           468.58                603"
      ]
     },
     "execution_count": 89,
     "metadata": {},
     "output_type": "execute_result"
    }
   ],
   "source": [
    "merged_df_q5 = merged_df_q5.rename(columns={\"child_mortality_0_5_year_olds_dying_per_1000_born\":\"child_mort_rate\"})\n",
    "merged_df_q5.head()"
   ]
  },
  {
   "cell_type": "code",
   "execution_count": 90,
   "metadata": {},
   "outputs": [
    {
     "data": {
      "text/plain": [
       "income_per_person    1.000000\n",
       "time                 0.415972\n",
       "child_mort_rate     -0.514889\n",
       "Name: income_per_person, dtype: float64"
      ]
     },
     "execution_count": 90,
     "metadata": {},
     "output_type": "execute_result"
    }
   ],
   "source": [
    "merged_df_q5.corr()['income_per_person'].sort_values(ascending=False)"
   ]
  },
  {
   "cell_type": "code",
   "execution_count": 91,
   "metadata": {},
   "outputs": [
    {
     "data": {
      "text/html": [
       "<div>\n",
       "<style scoped>\n",
       "    .dataframe tbody tr th:only-of-type {\n",
       "        vertical-align: middle;\n",
       "    }\n",
       "\n",
       "    .dataframe tbody tr th {\n",
       "        vertical-align: top;\n",
       "    }\n",
       "\n",
       "    .dataframe thead th {\n",
       "        text-align: right;\n",
       "    }\n",
       "</style>\n",
       "<table border=\"1\" class=\"dataframe\">\n",
       "  <thead>\n",
       "    <tr style=\"text-align: right;\">\n",
       "      <th></th>\n",
       "      <th>child_mort_rate</th>\n",
       "      <th>income_per_person</th>\n",
       "    </tr>\n",
       "    <tr>\n",
       "      <th>time</th>\n",
       "      <th></th>\n",
       "      <th></th>\n",
       "    </tr>\n",
       "  </thead>\n",
       "  <tbody>\n",
       "    <tr>\n",
       "      <th>1800</th>\n",
       "      <td>424.585598</td>\n",
       "      <td>944.940217</td>\n",
       "    </tr>\n",
       "    <tr>\n",
       "      <th>1801</th>\n",
       "      <td>423.930755</td>\n",
       "      <td>945.375000</td>\n",
       "    </tr>\n",
       "    <tr>\n",
       "      <th>1802</th>\n",
       "      <td>423.295315</td>\n",
       "      <td>948.407609</td>\n",
       "    </tr>\n",
       "    <tr>\n",
       "      <th>1803</th>\n",
       "      <td>422.893000</td>\n",
       "      <td>948.119565</td>\n",
       "    </tr>\n",
       "    <tr>\n",
       "      <th>1804</th>\n",
       "      <td>422.515913</td>\n",
       "      <td>949.793478</td>\n",
       "    </tr>\n",
       "  </tbody>\n",
       "</table>\n",
       "</div>"
      ],
      "text/plain": [
       "      child_mort_rate  income_per_person\n",
       "time                                    \n",
       "1800       424.585598         944.940217\n",
       "1801       423.930755         945.375000\n",
       "1802       423.295315         948.407609\n",
       "1803       422.893000         948.119565\n",
       "1804       422.515913         949.793478"
      ]
     },
     "execution_count": 91,
     "metadata": {},
     "output_type": "execute_result"
    }
   ],
   "source": [
    "merge_df2 = merged_df_q5.groupby(\"time\").mean()\n",
    "merge_df2.head()"
   ]
  },
  {
   "cell_type": "code",
   "execution_count": 92,
   "metadata": {},
   "outputs": [
    {
     "data": {
      "text/plain": [
       "income_per_person    1.000000\n",
       "child_mort_rate     -0.946659\n",
       "Name: income_per_person, dtype: float64"
      ]
     },
     "execution_count": 92,
     "metadata": {},
     "output_type": "execute_result"
    }
   ],
   "source": [
    "merge_df2.corr()['income_per_person'].sort_values(ascending=False)"
   ]
  },
  {
   "cell_type": "markdown",
   "metadata": {},
   "source": [
    "It is observed that there is a strong negative correlation between child mortality rate and gdp per capita income. Linear model can be fit to this data."
   ]
  },
  {
   "cell_type": "code",
   "execution_count": 96,
   "metadata": {},
   "outputs": [
    {
     "name": "stdout",
     "output_type": "stream",
     "text": [
      "LinearRegression(copy_X=True, fit_intercept=True, n_jobs=None, normalize=False)\n",
      "[[-34.8652511]]\n"
     ]
    }
   ],
   "source": [
    "X3 = merge_df2[\"child_mort_rate\"].values.reshape(-1,1)\n",
    "Y3 = merge_df2[\"income_per_person\"].values.reshape(-1,1)\n",
    "xTrain3, xTest3, yTrain3, yTest3 = train_test_split(X3,Y3, test_size=0.25, random_state=0)\n",
    "\n",
    "linear_reg = LinearRegression()  \n",
    "fit1 = linear_reg.fit(xTrain3, yTrain3)\n",
    "print(fit1)\n",
    "\n",
    "coeff1 = linear_reg.coef_\n",
    "print(coeff1)"
   ]
  },
  {
   "cell_type": "code",
   "execution_count": 97,
   "metadata": {
    "collapsed": true
   },
   "outputs": [
    {
     "data": {
      "text/plain": [
       "array([[ 7769.82499242],\n",
       "       [ 1020.75293579],\n",
       "       [  981.37092931],\n",
       "       [ 9220.20321568],\n",
       "       [ 9382.15268192],\n",
       "       [ 5766.5017717 ],\n",
       "       [  830.30585983],\n",
       "       [ 7942.30054732],\n",
       "       [13875.79561609],\n",
       "       [ 4639.54866028],\n",
       "       [ 7266.04921043],\n",
       "       [  186.53472558],\n",
       "       [ 1299.2698255 ],\n",
       "       [10166.50442665],\n",
       "       [13055.70326852],\n",
       "       [12430.9468727 ],\n",
       "       [12981.52880168],\n",
       "       [ 1389.38342512],\n",
       "       [ 1915.49153734],\n",
       "       [ 1027.57932457],\n",
       "       [  690.13352852],\n",
       "       [  264.61469747],\n",
       "       [ 8597.68901061],\n",
       "       [  835.97013673],\n",
       "       [  512.8842765 ],\n",
       "       [ 3996.09946115],\n",
       "       [ 1605.51690637],\n",
       "       [  782.68201116],\n",
       "       [  207.03170353],\n",
       "       [  331.3426194 ],\n",
       "       [11406.93625817],\n",
       "       [  303.70376005],\n",
       "       [ 5226.29634996],\n",
       "       [  206.59399304],\n",
       "       [ 3386.3426006 ],\n",
       "       [ 8908.49944789],\n",
       "       [ 4797.53997717],\n",
       "       [ 5938.48087574],\n",
       "       [12832.50261501],\n",
       "       [ 8278.50692158],\n",
       "       [  869.54669994],\n",
       "       [  464.52806808],\n",
       "       [ 1365.62048268],\n",
       "       [ 8761.11040087],\n",
       "       [12668.26542382],\n",
       "       [10735.64889136],\n",
       "       [12034.31399546],\n",
       "       [13400.86925438],\n",
       "       [  317.39291875],\n",
       "       [ 6118.45757572],\n",
       "       [12908.43822866],\n",
       "       [ 6537.00221964],\n",
       "       [  372.75647418],\n",
       "       [11812.46233909],\n",
       "       [  640.91118389]])"
      ]
     },
     "execution_count": 97,
     "metadata": {},
     "output_type": "execute_result"
    }
   ],
   "source": [
    "y_pred3 = linear_reg.predict(xTest3)\n",
    "y_pred3"
   ]
  },
  {
   "cell_type": "code",
   "execution_count": 105,
   "metadata": {},
   "outputs": [
    {
     "data": {
      "image/png": "[encoded data removed]",
      "text/plain": [
       "<Figure size 432x288 with 1 Axes>"
      ]
     },
     "metadata": {
      "needs_background": "light"
     },
     "output_type": "display_data"
    }
   ],
   "source": [
    "plt.scatter(xTest3, yTest3)\n",
    "plt.plot(xTest3, y_pred3, color='red', linewidth=2)\n",
    "plt.title(\"Treu Vs Pred\")\n",
    "plt.ylabel(\"mean GDP_income\")\n",
    "plt.xlabel(\"child mortality rate\")\n",
    "plt.show()"
   ]
  },
  {
   "cell_type": "code",
   "execution_count": 106,
   "metadata": {},
   "outputs": [
    {
     "name": "stdout",
     "output_type": "stream",
     "text": [
      "Accuracy:  -4003954.6158150965\n",
      "Error:  4003955.6158150965\n"
     ]
    }
   ],
   "source": [
    "err = metrics.mean_squared_error(yTest3,y_pred3)\n",
    "acc = 1 - err\n",
    "print(\"Accuracy: \", acc)\n",
    "print(\"Error: \", err)"
   ]
  },
  {
   "cell_type": "markdown",
   "metadata": {},
   "source": [
    "The best fit line of the model isn't that accurate. So we try some log function on the gdp per capita income variable."
   ]
  },
  {
   "cell_type": "code",
   "execution_count": 100,
   "metadata": {},
   "outputs": [
    {
     "data": {
      "text/html": [
       "<div>\n",
       "<style scoped>\n",
       "    .dataframe tbody tr th:only-of-type {\n",
       "        vertical-align: middle;\n",
       "    }\n",
       "\n",
       "    .dataframe tbody tr th {\n",
       "        vertical-align: top;\n",
       "    }\n",
       "\n",
       "    .dataframe thead th {\n",
       "        text-align: right;\n",
       "    }\n",
       "</style>\n",
       "<table border=\"1\" class=\"dataframe\">\n",
       "  <thead>\n",
       "    <tr style=\"text-align: right;\">\n",
       "      <th></th>\n",
       "      <th>child_mort_rate</th>\n",
       "      <th>income_per_person</th>\n",
       "      <th>log_gdp_income</th>\n",
       "    </tr>\n",
       "    <tr>\n",
       "      <th>time</th>\n",
       "      <th></th>\n",
       "      <th></th>\n",
       "      <th></th>\n",
       "    </tr>\n",
       "  </thead>\n",
       "  <tbody>\n",
       "    <tr>\n",
       "      <th>1800</th>\n",
       "      <td>424.585598</td>\n",
       "      <td>944.940217</td>\n",
       "      <td>6.851122</td>\n",
       "    </tr>\n",
       "    <tr>\n",
       "      <th>1801</th>\n",
       "      <td>423.930755</td>\n",
       "      <td>945.375000</td>\n",
       "      <td>6.851582</td>\n",
       "    </tr>\n",
       "    <tr>\n",
       "      <th>1802</th>\n",
       "      <td>423.295315</td>\n",
       "      <td>948.407609</td>\n",
       "      <td>6.854784</td>\n",
       "    </tr>\n",
       "    <tr>\n",
       "      <th>1803</th>\n",
       "      <td>422.893000</td>\n",
       "      <td>948.119565</td>\n",
       "      <td>6.854481</td>\n",
       "    </tr>\n",
       "    <tr>\n",
       "      <th>1804</th>\n",
       "      <td>422.515913</td>\n",
       "      <td>949.793478</td>\n",
       "      <td>6.856245</td>\n",
       "    </tr>\n",
       "  </tbody>\n",
       "</table>\n",
       "</div>"
      ],
      "text/plain": [
       "      child_mort_rate  income_per_person  log_gdp_income\n",
       "time                                                    \n",
       "1800       424.585598         944.940217        6.851122\n",
       "1801       423.930755         945.375000        6.851582\n",
       "1802       423.295315         948.407609        6.854784\n",
       "1803       422.893000         948.119565        6.854481\n",
       "1804       422.515913         949.793478        6.856245"
      ]
     },
     "execution_count": 100,
     "metadata": {},
     "output_type": "execute_result"
    }
   ],
   "source": [
    "merge_df2['log_gdp_income'] = np.log(merge_df2.income_per_person)\n",
    "merge_df2.head()"
   ]
  },
  {
   "cell_type": "code",
   "execution_count": 101,
   "metadata": {},
   "outputs": [
    {
     "name": "stdout",
     "output_type": "stream",
     "text": [
      "LinearRegression(copy_X=True, fit_intercept=True, n_jobs=None, normalize=False)\n",
      "[[-0.00693673]]\n"
     ]
    }
   ],
   "source": [
    "X4 = merge_df2[\"child_mort_rate\"].values.reshape(-1,1)\n",
    "Y4 = merge_df2[\"log_gdp_income\"].values.reshape(-1,1)\n",
    "xTrain4, xTest4, yTrain4, yTest4 = train_test_split(X4,Y4, test_size=0.25, random_state=0)\n",
    "\n",
    "linear_reg = LinearRegression()  \n",
    "fit1 = linear_reg.fit(xTrain4, yTrain4)\n",
    "print(fit1)\n",
    "\n",
    "coeff1 = linear_reg.coef_\n",
    "print(coeff1)"
   ]
  },
  {
   "cell_type": "code",
   "execution_count": 102,
   "metadata": {
    "collapsed": true
   },
   "outputs": [
    {
     "data": {
      "text/plain": [
       "array([[8.53404197],\n",
       "       [7.19125853],\n",
       "       [7.18342316],\n",
       "       [8.82260665],\n",
       "       [8.85482783],\n",
       "       [8.13546433],\n",
       "       [7.15336752],\n",
       "       [8.5683574 ],\n",
       "       [9.74887508],\n",
       "       [7.91124773],\n",
       "       [8.43381163],\n",
       "       [7.02528395],\n",
       "       [7.24667176],\n",
       "       [9.01088107],\n",
       "       [9.58571096],\n",
       "       [9.46141053],\n",
       "       [9.57095334],\n",
       "       [7.2646006 ],\n",
       "       [7.36927414],\n",
       "       [7.1926167 ],\n",
       "       [7.12547908],\n",
       "       [7.04081861],\n",
       "       [8.69875233],\n",
       "       [7.15449447],\n",
       "       [7.09021388],\n",
       "       [7.78322821],\n",
       "       [7.30760214],\n",
       "       [7.14389236],\n",
       "       [7.029362  ],\n",
       "       [7.05409468],\n",
       "       [9.25767519],\n",
       "       [7.0485957 ],\n",
       "       [8.02798601],\n",
       "       [7.02927491],\n",
       "       [7.66191207],\n",
       "       [8.76059062],\n",
       "       [7.9426814 ],\n",
       "       [8.16968098],\n",
       "       [9.54130335],\n",
       "       [8.63524843],\n",
       "       [7.16117481],\n",
       "       [7.08059302],\n",
       "       [7.25987277],\n",
       "       [8.73126636],\n",
       "       [9.50862701],\n",
       "       [9.12411705],\n",
       "       [9.38249716],\n",
       "       [9.65438457],\n",
       "       [7.05131927],\n",
       "       [8.20548883],\n",
       "       [9.55641137],\n",
       "       [8.28876173],\n",
       "       [7.0623343 ],\n",
       "       [9.33835794],\n",
       "       [7.11568589]])"
      ]
     },
     "execution_count": 102,
     "metadata": {},
     "output_type": "execute_result"
    }
   ],
   "source": [
    "y_pred4 = linear_reg.predict(xTest4)\n",
    "y_pred4"
   ]
  },
  {
   "cell_type": "code",
   "execution_count": 104,
   "metadata": {},
   "outputs": [
    {
     "data": {
      "image/png": "[encoded data removed]",
      "text/plain": [
       "<Figure size 432x288 with 1 Axes>"
      ]
     },
     "metadata": {
      "needs_background": "light"
     },
     "output_type": "display_data"
    }
   ],
   "source": [
    "plt.scatter(xTest4, yTest4)\n",
    "plt.plot(xTest4, y_pred4, color='red', linewidth=2)\n",
    "plt.title(\"Treu Vs Pred\")\n",
    "plt.ylabel(\"mean log(GDP_income)\")\n",
    "plt.xlabel(\"mean child mortality rate\")\n",
    "plt.show()"
   ]
  },
  {
   "cell_type": "code",
   "execution_count": 107,
   "metadata": {},
   "outputs": [
    {
     "name": "stdout",
     "output_type": "stream",
     "text": [
      "Accuracy:  0.9803815832460806\n",
      "Error:  0.01961841675391939\n"
     ]
    }
   ],
   "source": [
    "err = metrics.mean_squared_error(yTest4,y_pred4)\n",
    "acc = 1 - err\n",
    "print(\"Accuracy: \", acc)\n",
    "print(\"Error: \", err)"
   ]
  },
  {
   "cell_type": "markdown",
   "metadata": {},
   "source": [
    "The hypothesis tried are:\n",
    "- mean child mort rate ~ mean(gdp_income) + err\n",
    "- mean child mort rate ~ log(mean(gdp_income)) + err"
   ]
  }
 ],
 "metadata": {
  "kernelspec": {
   "display_name": "Python 3",
   "language": "python",
   "name": "python3"
  },
  "language_info": {
   "codemirror_mode": {
    "name": "ipython",
    "version": 3
   },
   "file_extension": ".py",
   "mimetype": "text/x-python",
   "name": "python",
   "nbconvert_exporter": "python",
   "pygments_lexer": "ipython3",
   "version": "3.7.3"
  }
 },
 "nbformat": 4,
 "nbformat_minor": 2
}
